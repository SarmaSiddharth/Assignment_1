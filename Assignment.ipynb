{
 "cells": [
  {
   "cell_type": "code",
   "execution_count": 1,
   "id": "9b2e9762-5b7f-4d5e-b275-8cf3d2393292",
   "metadata": {},
   "outputs": [],
   "source": [
    "c = \"siddharth\""
   ]
  },
  {
   "cell_type": "code",
   "execution_count": 2,
   "id": "213bcb76-2c69-4bdd-b61b-c3c12bba8955",
   "metadata": {},
   "outputs": [
    {
     "data": {
      "text/plain": [
       "str"
      ]
     },
     "execution_count": 2,
     "metadata": {},
     "output_type": "execute_result"
    }
   ],
   "source": [
    "type(c)"
   ]
  },
  {
   "cell_type": "code",
   "execution_count": 3,
   "id": "c8c2f6db-35e4-4cee-a922-f13ab3570ac6",
   "metadata": {},
   "outputs": [],
   "source": [
    "l = [24,56,\"siddharth\" , 4+5j]"
   ]
  },
  {
   "cell_type": "code",
   "execution_count": 4,
   "id": "b0b7b827-41a2-47ef-b723-25dee4bc6e38",
   "metadata": {},
   "outputs": [
    {
     "data": {
      "text/plain": [
       "list"
      ]
     },
     "execution_count": 4,
     "metadata": {},
     "output_type": "execute_result"
    }
   ],
   "source": [
    "type(l)"
   ]
  },
  {
   "cell_type": "code",
   "execution_count": 5,
   "id": "d5524b2d-aec5-4771-ac06-77cb1937d8c4",
   "metadata": {},
   "outputs": [],
   "source": [
    "a = 24.56"
   ]
  },
  {
   "cell_type": "code",
   "execution_count": 6,
   "id": "b00ad3ec-2f69-40a8-bbed-d0609f9d77b4",
   "metadata": {},
   "outputs": [
    {
     "data": {
      "text/plain": [
       "float"
      ]
     },
     "execution_count": 6,
     "metadata": {},
     "output_type": "execute_result"
    }
   ],
   "source": [
    "type(a)"
   ]
  },
  {
   "cell_type": "code",
   "execution_count": 9,
   "id": "f08373f3-a9e0-4769-a089-43c7c2b3943e",
   "metadata": {},
   "outputs": [],
   "source": [
    " t1=(1,2,3,4,True,25,\"Sid\")"
   ]
  },
  {
   "cell_type": "code",
   "execution_count": 7,
   "id": "5659790b-ffbe-469d-bd2c-134e9ee8e801",
   "metadata": {},
   "outputs": [
    {
     "data": {
      "text/plain": [
       "tuple"
      ]
     },
     "execution_count": 7,
     "metadata": {},
     "output_type": "execute_result"
    }
   ],
   "source": [
    "type(t1)"
   ]
  },
  {
   "cell_type": "code",
   "execution_count": 12,
   "id": "cff9f285-e766-4874-9187-9771c835e756",
   "metadata": {},
   "outputs": [],
   "source": [
    "var1=''"
   ]
  },
  {
   "cell_type": "code",
   "execution_count": 13,
   "id": "ae7b4036-2090-403f-9dde-e1dd9c7507f9",
   "metadata": {},
   "outputs": [
    {
     "data": {
      "text/plain": [
       "str"
      ]
     },
     "execution_count": 13,
     "metadata": {},
     "output_type": "execute_result"
    }
   ],
   "source": [
    "type(var1)"
   ]
  },
  {
   "cell_type": "code",
   "execution_count": 17,
   "id": "323414e0-e1fb-41aa-a3ff-cddf1a7360c9",
   "metadata": {},
   "outputs": [],
   "source": [
    "var2=[\"DS\",\"ML\",\"Python\"]"
   ]
  },
  {
   "cell_type": "code",
   "execution_count": 18,
   "id": "31004db3-9ad9-4222-a89f-4fd340937ee7",
   "metadata": {},
   "outputs": [
    {
     "data": {
      "text/plain": [
       "list"
      ]
     },
     "execution_count": 18,
     "metadata": {},
     "output_type": "execute_result"
    }
   ],
   "source": [
    "type(var2)"
   ]
  },
  {
   "cell_type": "code",
   "execution_count": 19,
   "id": "4762aa9c-a49c-49f6-9f8e-2d68d238cbfc",
   "metadata": {},
   "outputs": [],
   "source": [
    "var3=[\"DS\",\"ML\",\"Python\"]"
   ]
  },
  {
   "cell_type": "code",
   "execution_count": 22,
   "id": "4d766f0b-b0d1-4367-8b5e-19a9aaaa6913",
   "metadata": {},
   "outputs": [
    {
     "data": {
      "text/plain": [
       "list"
      ]
     },
     "execution_count": 22,
     "metadata": {},
     "output_type": "execute_result"
    }
   ],
   "source": [
    "type(var3)"
   ]
  },
  {
   "cell_type": "code",
   "execution_count": 23,
   "id": "1cb11021-aa14-4fdf-a005-a4769c045a96",
   "metadata": {},
   "outputs": [],
   "source": [
    "var4=1."
   ]
  },
  {
   "cell_type": "code",
   "execution_count": 24,
   "id": "95819cdb-471b-40a9-9411-81478912875d",
   "metadata": {},
   "outputs": [
    {
     "data": {
      "text/plain": [
       "float"
      ]
     },
     "execution_count": 24,
     "metadata": {},
     "output_type": "execute_result"
    }
   ],
   "source": [
    "type(var4)"
   ]
  },
  {
   "cell_type": "code",
   "execution_count": 25,
   "id": "42a347ed-f638-42c9-99de-e4e579ecec9d",
   "metadata": {},
   "outputs": [
    {
     "data": {
      "text/plain": [
       "1.0"
      ]
     },
     "execution_count": 25,
     "metadata": {},
     "output_type": "execute_result"
    }
   ],
   "source": [
    "2/2"
   ]
  },
  {
   "cell_type": "code",
   "execution_count": 28,
   "id": "669cee87-5b84-4f2e-b3be-2fd4701ead53",
   "metadata": {},
   "outputs": [
    {
     "data": {
      "text/plain": [
       "2"
      ]
     },
     "execution_count": 28,
     "metadata": {},
     "output_type": "execute_result"
    }
   ],
   "source": [
    "50%4"
   ]
  },
  {
   "cell_type": "code",
   "execution_count": 30,
   "id": "375b040f-a6e4-468f-b036-efc178e7fe7f",
   "metadata": {},
   "outputs": [
    {
     "data": {
      "text/plain": [
       "32"
      ]
     },
     "execution_count": 30,
     "metadata": {},
     "output_type": "execute_result"
    }
   ],
   "source": [
    "98//3"
   ]
  },
  {
   "cell_type": "code",
   "execution_count": 31,
   "id": "d4eee639-a467-4692-867d-70f09456df42",
   "metadata": {},
   "outputs": [
    {
     "data": {
      "text/plain": [
       "16"
      ]
     },
     "execution_count": 31,
     "metadata": {},
     "output_type": "execute_result"
    }
   ],
   "source": [
    "4**2"
   ]
  },
  {
   "cell_type": "code",
   "execution_count": 46,
   "id": "57ca1c02-e2cf-47ce-9d52-4f7f1b25bfdc",
   "metadata": {},
   "outputs": [],
   "source": [
    "l1=[1,2,3,4,\"Siddharth\",True,25.6,{\"Course_name\":\"Data Science\"},False,2+5j,\"Hello\",(4,5,6),25.6,{\"Age\":20},[\"Sid\"],{\"Title\":\"Sarma\"}]"
   ]
  },
  {
   "cell_type": "code",
   "execution_count": 39,
   "id": "200589ea-b56f-4070-a983-2ecfdc592832",
   "metadata": {},
   "outputs": [
    {
     "data": {
      "text/plain": [
       "10"
      ]
     },
     "execution_count": 39,
     "metadata": {},
     "output_type": "execute_result"
    }
   ],
   "source": [
    "len(l)"
   ]
  },
  {
   "cell_type": "code",
   "execution_count": 47,
   "id": "119f1460-97c3-4898-b6e5-04577aba8726",
   "metadata": {},
   "outputs": [
    {
     "name": "stdout",
     "output_type": "stream",
     "text": [
      "([1, 2, 3, 4, 'Siddharth', True, 25.6], {'Course_name': 'Data Science'}, False, (2+5j), 'Hello', (4, 5, 6), 25.6, {'Age': 20}, ['Sid'], {'Title': 'Sarma'}) <class 'tuple'>\n",
      "([1, 2, 3, 4, 'Siddharth', True, 25.6], {'Course_name': 'Data Science'}, False, (2+5j), 'Hello', (4, 5, 6), 25.6, {'Age': 20}, ['Sid'], {'Title': 'Sarma'}) <class 'tuple'>\n",
      "([1, 2, 3, 4, 'Siddharth', True, 25.6], {'Course_name': 'Data Science'}, False, (2+5j), 'Hello', (4, 5, 6), 25.6, {'Age': 20}, ['Sid'], {'Title': 'Sarma'}) <class 'tuple'>\n",
      "([1, 2, 3, 4, 'Siddharth', True, 25.6], {'Course_name': 'Data Science'}, False, (2+5j), 'Hello', (4, 5, 6), 25.6, {'Age': 20}, ['Sid'], {'Title': 'Sarma'}) <class 'tuple'>\n",
      "([1, 2, 3, 4, 'Siddharth', True, 25.6], {'Course_name': 'Data Science'}, False, (2+5j), 'Hello', (4, 5, 6), 25.6, {'Age': 20}, ['Sid'], {'Title': 'Sarma'}) <class 'tuple'>\n",
      "([1, 2, 3, 4, 'Siddharth', True, 25.6], {'Course_name': 'Data Science'}, False, (2+5j), 'Hello', (4, 5, 6), 25.6, {'Age': 20}, ['Sid'], {'Title': 'Sarma'}) <class 'tuple'>\n",
      "([1, 2, 3, 4, 'Siddharth', True, 25.6], {'Course_name': 'Data Science'}, False, (2+5j), 'Hello', (4, 5, 6), 25.6, {'Age': 20}, ['Sid'], {'Title': 'Sarma'}) <class 'tuple'>\n",
      "([1, 2, 3, 4, 'Siddharth', True, 25.6], {'Course_name': 'Data Science'}, False, (2+5j), 'Hello', (4, 5, 6), 25.6, {'Age': 20}, ['Sid'], {'Title': 'Sarma'}) <class 'tuple'>\n",
      "([1, 2, 3, 4, 'Siddharth', True, 25.6], {'Course_name': 'Data Science'}, False, (2+5j), 'Hello', (4, 5, 6), 25.6, {'Age': 20}, ['Sid'], {'Title': 'Sarma'}) <class 'tuple'>\n",
      "([1, 2, 3, 4, 'Siddharth', True, 25.6], {'Course_name': 'Data Science'}, False, (2+5j), 'Hello', (4, 5, 6), 25.6, {'Age': 20}, ['Sid'], {'Title': 'Sarma'}) <class 'tuple'>\n",
      "([1, 2, 3, 4, 'Siddharth', True, 25.6], {'Course_name': 'Data Science'}, False, (2+5j), 'Hello', (4, 5, 6), 25.6, {'Age': 20}, ['Sid'], {'Title': 'Sarma'}) <class 'tuple'>\n",
      "([1, 2, 3, 4, 'Siddharth', True, 25.6], {'Course_name': 'Data Science'}, False, (2+5j), 'Hello', (4, 5, 6), 25.6, {'Age': 20}, ['Sid'], {'Title': 'Sarma'}) <class 'tuple'>\n",
      "([1, 2, 3, 4, 'Siddharth', True, 25.6], {'Course_name': 'Data Science'}, False, (2+5j), 'Hello', (4, 5, 6), 25.6, {'Age': 20}, ['Sid'], {'Title': 'Sarma'}) <class 'tuple'>\n",
      "([1, 2, 3, 4, 'Siddharth', True, 25.6], {'Course_name': 'Data Science'}, False, (2+5j), 'Hello', (4, 5, 6), 25.6, {'Age': 20}, ['Sid'], {'Title': 'Sarma'}) <class 'tuple'>\n",
      "([1, 2, 3, 4, 'Siddharth', True, 25.6], {'Course_name': 'Data Science'}, False, (2+5j), 'Hello', (4, 5, 6), 25.6, {'Age': 20}, ['Sid'], {'Title': 'Sarma'}) <class 'tuple'>\n",
      "([1, 2, 3, 4, 'Siddharth', True, 25.6], {'Course_name': 'Data Science'}, False, (2+5j), 'Hello', (4, 5, 6), 25.6, {'Age': 20}, ['Sid'], {'Title': 'Sarma'}) <class 'tuple'>\n"
     ]
    }
   ],
   "source": [
    "for element in l1:\n",
    "    print(l, type(l))"
   ]
  },
  {
   "cell_type": "code",
   "execution_count": 59,
   "id": "73314e72-b3a4-4a55-89d5-4ef81d09310c",
   "metadata": {},
   "outputs": [],
   "source": [
    "list_1=[15,3.14,\"Siddharth\",True,[1,2,3,4],{\"course_name\":\"Data_Science_Masters\"},(4,5,6),False,2+5j,\"Bye\"]"
   ]
  },
  {
   "cell_type": "code",
   "execution_count": 60,
   "id": "bae65871-7230-432b-9c34-fb1b153a2761",
   "metadata": {},
   "outputs": [
    {
     "data": {
      "text/plain": [
       "10"
      ]
     },
     "execution_count": 60,
     "metadata": {},
     "output_type": "execute_result"
    }
   ],
   "source": [
    "len(list_1)"
   ]
  },
  {
   "cell_type": "code",
   "execution_count": 62,
   "id": "edfd493a-c123-4a2d-aa53-1991e343430d",
   "metadata": {},
   "outputs": [
    {
     "name": "stdout",
     "output_type": "stream",
     "text": [
      "15 <class 'int'>\n",
      "3.14 <class 'float'>\n",
      "Siddharth <class 'str'>\n",
      "True <class 'bool'>\n",
      "[1, 2, 3, 4] <class 'list'>\n",
      "{'course_name': 'Data_Science_Masters'} <class 'dict'>\n",
      "(4, 5, 6) <class 'tuple'>\n",
      "False <class 'bool'>\n",
      "(2+5j) <class 'complex'>\n",
      "Bye <class 'str'>\n"
     ]
    }
   ],
   "source": [
    "for element in list_1:\n",
    "    print(element ,type(element))"
   ]
  },
  {
   "cell_type": "code",
   "execution_count": null,
   "id": "717ebe63-9e42-4371-b959-9b8e0eba10d6",
   "metadata": {},
   "outputs": [],
   "source": [
    "A=int(input(\"enter the value of A\"))\n",
    "B=int(input(\"enter the value of B\"))\n",
    "\n",
    "count=0\n",
    "\n",
    " while A%B==0:\n",
    "        A//B=0\n",
    "        count+=1\n",
    "if count >0:\n",
    "    print(\"A is not divisibe by B\")\n",
    "            "
   ]
  },
  {
   "cell_type": "code",
   "execution_count": null,
   "id": "52a50fc1-aff5-4193-9014-38fa4c046802",
   "metadata": {},
   "outputs": [],
   "source": [
    "A=int(input(\"enter the value of A\"))\n",
    "B=int(input(\"enter the value of B\"))\n",
    "\n",
    "count=0\n",
    "\n",
    " while A%B==0:\n",
    "        A//B=0\n",
    "        count+=1\n",
    "if count >0:\n",
    "    print(\"A is not divisibe by B\")"
   ]
  },
  {
   "cell_type": "code",
   "execution_count": null,
   "id": "4c451e9e-1a1f-431d-9496-c4c40b131900",
   "metadata": {},
   "outputs": [],
   "source": [
    "l=[9,28,63,55,15,18,27,21,56,45,80,98,82,96,3,11,72,85,84,12,63,92,91,20,23]"
   ]
  },
  {
   "cell_type": "code",
   "execution_count": null,
   "id": "110b2f13-e651-4809-8814-3ed8e1d49a6b",
   "metadata": {},
   "outputs": [],
   "source": [
    "len(l)"
   ]
  },
  {
   "cell_type": "code",
   "execution_count": null,
   "id": "749d01d9-c114-4edd-8d63-72a2c0debf33",
   "metadata": {},
   "outputs": [],
   "source": []
  }
 ],
 "metadata": {
  "kernelspec": {
   "display_name": "Python 3 (ipykernel)",
   "language": "python",
   "name": "python3"
  },
  "language_info": {
   "codemirror_mode": {
    "name": "ipython",
    "version": 3
   },
   "file_extension": ".py",
   "mimetype": "text/x-python",
   "name": "python",
   "nbconvert_exporter": "python",
   "pygments_lexer": "ipython3",
   "version": "3.10.8"
  }
 },
 "nbformat": 4,
 "nbformat_minor": 5
}
