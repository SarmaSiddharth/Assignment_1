{
 "cells": [
  {
   "cell_type": "code",
   "execution_count": 2,
   "id": "b8ea7868-47f3-489e-a4f4-f392dc317cbc",
   "metadata": {},
   "outputs": [],
   "source": [
    "l=[9,28,63,55,15,18,27,21,56,45,80,98,82,96,3,11,72,85,84,12,63,92,91,20,23]"
   ]
  },
  {
   "cell_type": "code",
   "execution_count": 3,
   "id": "e1d54c62-38e9-43ca-a009-6d31e1d4201f",
   "metadata": {},
   "outputs": [
    {
     "data": {
      "text/plain": [
       "25"
      ]
     },
     "execution_count": 3,
     "metadata": {},
     "output_type": "execute_result"
    }
   ],
   "source": [
    "len(l)"
   ]
  },
  {
   "cell_type": "code",
   "execution_count": 6,
   "id": "03dfc433-6daa-4669-bdaa-3dd09398d2a4",
   "metadata": {},
   "outputs": [
    {
     "name": "stdout",
     "output_type": "stream",
     "text": [
      "Element is not divisible by 3\n",
      "Element is divisible by 3\n",
      "Element is not divisible by 3\n",
      "Element is divisible by 3\n",
      "Element is not divisible by 3\n",
      "Element is not divisible by 3\n",
      "Element is not divisible by 3\n",
      "Element is not divisible by 3\n",
      "Element is divisible by 3\n",
      "Element is not divisible by 3\n",
      "Element is divisible by 3\n",
      "Element is divisible by 3\n",
      "Element is divisible by 3\n",
      "Element is not divisible by 3\n",
      "Element is not divisible by 3\n",
      "Element is divisible by 3\n",
      "Element is not divisible by 3\n",
      "Element is divisible by 3\n",
      "Element is not divisible by 3\n",
      "Element is not divisible by 3\n",
      "Element is not divisible by 3\n",
      "Element is divisible by 3\n",
      "Element is divisible by 3\n",
      "Element is divisible by 3\n",
      "Element is divisible by 3\n"
     ]
    }
   ],
   "source": [
    "for element in l:\n",
    "    if element  %3 !=0:\n",
    "        print(\"Element is divisible by 3\")\n",
    "    else:\n",
    "        print(\"Element is not divisible by 3\")"
   ]
  },
  {
   "cell_type": "code",
   "execution_count": 8,
   "id": "a8de0362-4be9-4fee-8cbe-5a4bc91c72bc",
   "metadata": {},
   "outputs": [
    {
     "name": "stdout",
     "output_type": "stream",
     "text": [
      "[1, 2, 3, 4]\n"
     ]
    }
   ],
   "source": [
    "#Mutable Data#\n",
    "l1=[1,2,3,4]\n",
    "print(l1)"
   ]
  },
  {
   "cell_type": "code",
   "execution_count": 12,
   "id": "55da67c7-d15f-4170-bb50-ee6fcdee4d32",
   "metadata": {},
   "outputs": [],
   "source": [
    "l1=l1+[5]"
   ]
  },
  {
   "cell_type": "code",
   "execution_count": 13,
   "id": "107108fd-a187-403a-9581-edc240dbe583",
   "metadata": {},
   "outputs": [
    {
     "data": {
      "text/plain": [
       "[1, 2, 3, 4, 5]"
      ]
     },
     "execution_count": 13,
     "metadata": {},
     "output_type": "execute_result"
    }
   ],
   "source": [
    "l1"
   ]
  },
  {
   "cell_type": "code",
   "execution_count": 14,
   "id": "0fcddf6a-cc3a-4777-b075-0ab131a062cb",
   "metadata": {},
   "outputs": [
    {
     "name": "stdout",
     "output_type": "stream",
     "text": [
      "Siddharth\n"
     ]
    }
   ],
   "source": [
    "str=\"Siddharth\"\n",
    "print(str)"
   ]
  },
  {
   "cell_type": "code",
   "execution_count": 15,
   "id": "1ba66ebc-335c-4e62-bfa4-3b4cc189f509",
   "metadata": {},
   "outputs": [
    {
     "ename": "TypeError",
     "evalue": "'str' object does not support item assignment",
     "output_type": "error",
     "traceback": [
      "\u001b[0;31m---------------------------------------------------------------------------\u001b[0m",
      "\u001b[0;31mTypeError\u001b[0m                                 Traceback (most recent call last)",
      "Cell \u001b[0;32mIn[15], line 1\u001b[0m\n\u001b[0;32m----> 1\u001b[0m \u001b[38;5;28;43mstr\u001b[39;49m\u001b[43m[\u001b[49m\u001b[38;5;124;43m\"\u001b[39;49m\u001b[38;5;124;43mSiddharth\u001b[39;49m\u001b[38;5;124;43m\"\u001b[39;49m\u001b[43m]\u001b[49m\u001b[38;5;241m=\u001b[39m\u001b[38;5;124m\"\u001b[39m\u001b[38;5;124mSid\u001b[39m\u001b[38;5;124m\"\u001b[39m\n",
      "\u001b[0;31mTypeError\u001b[0m: 'str' object does not support item assignment"
     ]
    }
   ],
   "source": [
    "str[\"Siddharth\"]=\"Sid\""
   ]
  },
  {
   "cell_type": "code",
   "execution_count": null,
   "id": "39058120-1997-42fc-9416-389118757396",
   "metadata": {},
   "outputs": [],
   "source": []
  }
 ],
 "metadata": {
  "kernelspec": {
   "display_name": "Python 3 (ipykernel)",
   "language": "python",
   "name": "python3"
  },
  "language_info": {
   "codemirror_mode": {
    "name": "ipython",
    "version": 3
   },
   "file_extension": ".py",
   "mimetype": "text/x-python",
   "name": "python",
   "nbconvert_exporter": "python",
   "pygments_lexer": "ipython3",
   "version": "3.10.8"
  }
 },
 "nbformat": 4,
 "nbformat_minor": 5
}
